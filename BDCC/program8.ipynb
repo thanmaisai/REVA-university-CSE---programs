!pip install pyspark
from pyspark.sql.functions import col,sum,avg,max
from pyspark.sql.session import SparkSession
spark=SparkSession.builder.appName("sparkbyexamples").getOrCreate()
Data = [("James","Sales","NY",90000,34,10000),
    ("Michael","Sales","NV",86000,56,20000),
    ("Robert","Sales","CA",81000,30,23000),
    ("Maria","Finance","CA",90000,24,23000),
    ("Raman","Finance","DE",99000,40,24000),
    ("Scott","Finance","NY",83000,36,19000),
    ("Jen","Finance","NY",79000,53,15000),
    ("Jeff","Marketing","NV",80000,25,18000),
    ("Kumar","Marketing","NJ",91000,50,21000)]

schema = ["employee_name","department","state","salary","age","bonus"]
df=spark.createDataFrame(data=Data,schema=schema)
df.printSchema()
df.show(truncate=False)
df.groupBy("state").sum("salary").show()
df.groupBy("state").sum("salary").filter("sum(salary)>100000").show()
df.groupBy("state").sum("salary").orderBy("sum(salary)",ascending=False).show()
