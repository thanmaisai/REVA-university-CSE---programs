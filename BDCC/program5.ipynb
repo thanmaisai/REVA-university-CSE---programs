!pip install pyspark
from pyspark import SparkContext 
sc = SparkContext()
rdd = sc.parallelize([{1,2,3},{4,5,6},{7,8,9}])
acc = sc.accumulator(0)

def add_to_acc(x):
    global acc
    for i in x:
        acc += i

rdd.foreach(add_to_acc)
print("sum of the numbers in rdd:", acc.value)

sc.stop()
