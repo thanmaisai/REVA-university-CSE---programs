# Create an RDD from the existing file having CSV data, using read() and load() functions and display the top 5 rows of the data set. 
# And also display the statistical results from the data frame (Note: It only works for numerical values).


!pip install spark
!pip install pyspark
from pyspark.sql import SparkSession
spark = SparkSession.builder.appName("CSV RDD").getOrCreate()
rdd = spark.read.format("csv").option("header", "true").load("/content/prgm6.csv").rdd
print(rdd.take(5))
df = rdd.toDF()
df.describe().show()
