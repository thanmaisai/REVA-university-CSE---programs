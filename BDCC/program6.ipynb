!pip install spark
!pip install pyspark
from pyspark.sql import SparkSession
spark = SparkSession.builder.appName("CSV RDD").getOrCreate()
rdd = spark.read.format("csv").option("header", "true").load("/content/prgm6.csv").rdd
print(rdd.take(5))
df = rdd.toDF()
df.describe().show()
